{
  "nbformat": 4,
  "nbformat_minor": 0,
  "metadata": {
    "accelerator": "GPU",
    "colab": {
      "name": "Copy of Wav2Lip_quick_trial.ipynb",
      "provenance": [],
      "collapsed_sections": [],
      "toc_visible": true
    },
    "kernelspec": {
      "display_name": "Python 3",
      "name": "python3"
    }
  },
  "cells": [
    {
      "cell_type": "markdown",
      "metadata": {
        "id": "vSQFs_G8caeE"
      },
      "source": [
        "# Collab preliminaries"
      ]
    },
    {
      "cell_type": "code",
      "metadata": {
        "colab": {
          "base_uri": "https://localhost:8080/"
        },
        "id": "XIVB0Xn1g6ih",
        "outputId": "0f6428f1-1a3a-4c56-f376-c1d58d141abf"
      },
      "source": [
        "!nvcc --version\n",
        "!nvidia-smi"
      ],
      "execution_count": null,
      "outputs": [
        {
          "output_type": "stream",
          "text": [
            "nvcc: NVIDIA (R) Cuda compiler driver\n",
            "Copyright (c) 2005-2020 NVIDIA Corporation\n",
            "Built on Wed_Jul_22_19:09:09_PDT_2020\n",
            "Cuda compilation tools, release 11.0, V11.0.221\n",
            "Build cuda_11.0_bu.TC445_37.28845127_0\n",
            "Sat May 22 08:41:40 2021       \n",
            "+-----------------------------------------------------------------------------+\n",
            "| NVIDIA-SMI 465.19.01    Driver Version: 460.32.03    CUDA Version: 11.2     |\n",
            "|-------------------------------+----------------------+----------------------+\n",
            "| GPU  Name        Persistence-M| Bus-Id        Disp.A | Volatile Uncorr. ECC |\n",
            "| Fan  Temp  Perf  Pwr:Usage/Cap|         Memory-Usage | GPU-Util  Compute M. |\n",
            "|                               |                      |               MIG M. |\n",
            "|===============================+======================+======================|\n",
            "|   0  Tesla P100-PCIE...  Off  | 00000000:00:04.0 Off |                    0 |\n",
            "| N/A   38C    P0    30W / 250W |      0MiB / 16280MiB |      0%      Default |\n",
            "|                               |                      |                  N/A |\n",
            "+-------------------------------+----------------------+----------------------+\n",
            "                                                                               \n",
            "+-----------------------------------------------------------------------------+\n",
            "| Processes:                                                                  |\n",
            "|  GPU   GI   CI        PID   Type   Process name                  GPU Memory |\n",
            "|        ID   ID                                                   Usage      |\n",
            "|=============================================================================|\n",
            "|  No running processes found                                                 |\n",
            "+-----------------------------------------------------------------------------+\n"
          ],
          "name": "stdout"
        }
      ]
    },
    {
      "cell_type": "code",
      "metadata": {
        "colab": {
          "base_uri": "https://localhost:8080/"
        },
        "id": "qciH4PsUazL_",
        "outputId": "fb80c7ef-9743-49b2-cf77-53b03eac6d14"
      },
      "source": [
        "from google.colab import drive\n",
        "drive.mount('/content/gdrive')"
      ],
      "execution_count": null,
      "outputs": [
        {
          "output_type": "stream",
          "text": [
            "Mounted at /content/gdrive\n"
          ],
          "name": "stdout"
        }
      ]
    },
    {
      "cell_type": "code",
      "metadata": {
        "colab": {
          "base_uri": "https://localhost:8080/"
        },
        "id": "tnYIdFhBuJOf",
        "outputId": "86ba2ba2-b8ac-49f2-a3cf-2b3ac09fa1fb"
      },
      "source": [
        "!wget https://naruto-bleach-fairy-tail-and-fullmetal-alchemist.fandom.com/wiki/Sakura_Haruno?file=Sakura_Haruno.png -O /content/sakura.png"
      ],
      "execution_count": null,
      "outputs": [
        {
          "output_type": "stream",
          "text": [
            "--2021-05-21 16:19:35--  https://naruto-bleach-fairy-tail-and-fullmetal-alchemist.fandom.com/wiki/Sakura_Haruno?file=Sakura_Haruno.png\n",
            "Resolving naruto-bleach-fairy-tail-and-fullmetal-alchemist.fandom.com (naruto-bleach-fairy-tail-and-fullmetal-alchemist.fandom.com)... 151.101.128.194, 151.101.192.194, 151.101.0.194, ...\n",
            "Connecting to naruto-bleach-fairy-tail-and-fullmetal-alchemist.fandom.com (naruto-bleach-fairy-tail-and-fullmetal-alchemist.fandom.com)|151.101.128.194|:443... connected.\n",
            "HTTP request sent, awaiting response... 200 OK\n",
            "Length: unspecified [text/html]\n",
            "Saving to: ‘/content/sakura.png’\n",
            "\n",
            "/content/sakura.png     [ <=>                ] 212.66K  --.-KB/s    in 0.01s   \n",
            "\n",
            "2021-05-21 16:19:36 (14.8 MB/s) - ‘/content/sakura.png’ saved [217759]\n",
            "\n"
          ],
          "name": "stdout"
        }
      ]
    },
    {
      "cell_type": "code",
      "metadata": {
        "id": "v5DaQgiZvmkX"
      },
      "source": [
        "from google.colab.patches import cv2_imshow\n",
        "sakura = cv2.imread('/content/Sakura_Haruno.png')\n",
        "cv2_imshow(sakura)\n",
        "#sakura.shape"
      ],
      "execution_count": null,
      "outputs": []
    },
    {
      "cell_type": "code",
      "metadata": {
        "id": "vqxfZAs3nC7v"
      },
      "source": [
        "import cv2\n",
        "import numpy as np\n",
        "\n",
        "img=[]\n",
        "for i in range(0,3*30):\n",
        "  pic = cv2.imread('/content/Screenshot from 2021-05-21 16-20-08.png')\n",
        "  pic = cv2.resize(pic,(360,360))\n",
        "  #print(pic.shape)\n",
        "  img.append(pic)\n",
        "\n",
        "height,width,layers=img[0].shape\n",
        "fourcc = cv2.VideoWriter_fourcc(*'XVID') \n",
        "video=cv2.VideoWriter('/content/video.mp4',fourcc,30,(width,height))\n",
        "\n",
        "for j in range(0,3*30):\n",
        "    video.write(img[j])\n",
        "\n",
        "cv2.destroyAllWindows()\n",
        "video.release()\n"
      ],
      "execution_count": null,
      "outputs": []
    },
    {
      "cell_type": "code",
      "metadata": {
        "colab": {
          "base_uri": "https://localhost:8080/",
          "height": 416
        },
        "id": "Zpk15wzHra2H",
        "outputId": "9c013278-ca55-402e-a9d6-432be3ad1236"
      },
      "source": [
        "from moviepy.editor import *\n",
        "clip = VideoFileClip('/content/video.mp4')\n",
        "#clip = clip.subclip(0,55)\n",
        "print(clip.fps)\n",
        "clip.ipython_display()"
      ],
      "execution_count": null,
      "outputs": [
        {
          "output_type": "stream",
          "text": [
            " 99%|█████████▉| 90/91 [00:00<00:00, 560.36it/s]"
          ],
          "name": "stderr"
        },
        {
          "output_type": "stream",
          "text": [
            "30.0\n"
          ],
          "name": "stdout"
        },
        {
          "output_type": "stream",
          "text": [
            "\n"
          ],
          "name": "stderr"
        },
        {
          "output_type": "execute_result",
          "data": {
            "text/html": [
              "<div align=middle><video src='data:video/mp4;base64,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' controls>Sorry, seems like your browser doesn't support HTML5 audio/video</video></div>"
            ],
            "text/plain": [
              "<moviepy.video.io.html_tools.HTML2 object>"
            ]
          },
          "metadata": {
            "tags": []
          },
          "execution_count": 6
        }
      ]
    },
    {
      "cell_type": "code",
      "metadata": {
        "colab": {
          "base_uri": "https://localhost:8080/",
          "height": 200
        },
        "id": "3QkdiLX2ocWn",
        "outputId": "5586b9d9-9a8a-48ec-bfae-829223cd0161"
      },
      "source": [
        "from moviepy.editor import *\n",
        "import IPython\n",
        "myaudio = AudioFileClip('/content/kakoli_furniture.mp3')\n",
        "#myaudio = myaudio.subclip(0,57)\n",
        "myaudio.write_audiofile('/content/music.mp3')\n",
        "IPython.display.Audio('/content/music.mp3')"
      ],
      "execution_count": null,
      "outputs": [
        {
          "output_type": "stream",
          "text": [
            "Imageio: 'ffmpeg-linux64-v3.3.1' was not found on your computer; downloading it now.\n",
            "Try 1. Download from https://github.com/imageio/imageio-binaries/raw/master/ffmpeg/ffmpeg-linux64-v3.3.1 (43.8 MB)\n",
            "Downloading: 8192/45929032 bytes (0.0%)\b\b\b\b\b\b\b\b\b\b\b\b\b\b\b\b\b\b\b\b\b\b\b\b\b\b2883584/45929032 bytes (6.3%)\b\b\b\b\b\b\b\b\b\b\b\b\b\b\b\b\b\b\b\b\b\b\b\b\b\b\b\b\b6750208/45929032 bytes (14.7%)\b\b\b\b\b\b\b\b\b\b\b\b\b\b\b\b\b\b\b\b\b\b\b\b\b\b\b\b\b\b10715136/45929032 bytes (23.3%)\b\b\b\b\b\b\b\b\b\b\b\b\b\b\b\b\b\b\b\b\b\b\b\b\b\b\b\b\b\b\b14712832/45929032 bytes (32.0%)\b\b\b\b\b\b\b\b\b\b\b\b\b\b\b\b\b\b\b\b\b\b\b\b\b\b\b\b\b\b\b18489344/45929032 bytes (40.3%)\b\b\b\b\b\b\b\b\b\b\b\b\b\b\b\b\b\b\b\b\b\b\b\b\b\b\b\b\b\b\b22421504/45929032 bytes (48.8%)\b\b\b\b\b\b\b\b\b\b\b\b\b\b\b\b\b\b\b\b\b\b\b\b\b\b\b\b\b\b\b26517504/45929032 bytes (57.7%)\b\b\b\b\b\b\b\b\b\b\b\b\b\b\b\b\b\b\b\b\b\b\b\b\b\b\b\b\b\b\b30572544/45929032 bytes (66.6%)\b\b\b\b\b\b\b\b\b\b\b\b\b\b\b\b\b\b\b\b\b\b\b\b\b\b\b\b\b\b\b34422784/45929032 bytes (74.9%)\b\b\b\b\b\b\b\b\b\b\b\b\b\b\b\b\b\b\b\b\b\b\b\b\b\b\b\b\b\b\b38420480/45929032 bytes (83.7%)\b\b\b\b\b\b\b\b\b\b\b\b\b\b\b\b\b\b\b\b\b\b\b\b\b\b\b\b\b\b\b42147840/45929032 bytes (91.8%)\b\b\b\b\b\b\b\b\b\b\b\b\b\b\b\b\b\b\b\b\b\b\b\b\b\b\b\b\b\b\b45929032/45929032 bytes (100.0%)\n",
            "  Done\n",
            "File saved as /root/.imageio/ffmpeg/ffmpeg-linux64-v3.3.1.\n",
            "[MoviePy] Writing audio in /content/music.mp3\n"
          ],
          "name": "stdout"
        },
        {
          "output_type": "stream",
          "text": [
            "100%|██████████| 61/61 [00:00<00:00, 944.09it/s]"
          ],
          "name": "stderr"
        },
        {
          "output_type": "stream",
          "text": [
            "[MoviePy] Done.\n"
          ],
          "name": "stdout"
        },
        {
          "output_type": "stream",
          "text": [
            "\n"
          ],
          "name": "stderr"
        },
        {
          "output_type": "execute_result",
          "data": {
            "text/html": [
              "\n",
              "                <audio controls=\"controls\" >\n",
              "                    <source src=\"data:audio/mpeg;base64,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\" type=\"audio/mpeg\" />\n",
              "                    Your browser does not support the audio element.\n",
              "                </audio>\n",
              "              "
            ],
            "text/plain": [
              "<IPython.lib.display.Audio object>"
            ]
          },
          "metadata": {
            "tags": []
          },
          "execution_count": 4
        }
      ]
    },
    {
      "cell_type": "markdown",
      "metadata": {
        "id": "yJ5taGmPcWV-"
      },
      "source": [
        "# Get the code and models"
      ]
    },
    {
      "cell_type": "code",
      "metadata": {
        "colab": {
          "base_uri": "https://localhost:8080/"
        },
        "id": "P3LihClHbUd3",
        "outputId": "5772cd01-dce4-442a-8fc8-989d0e45bca2"
      },
      "source": [
        "!git clone https://github.com/Rudrabha/Wav2Lip.git"
      ],
      "execution_count": null,
      "outputs": [
        {
          "output_type": "stream",
          "text": [
            "Cloning into 'Wav2Lip'...\n",
            "remote: Enumerating objects: 338, done.\u001b[K\n",
            "remote: Total 338 (delta 0), reused 0 (delta 0), pack-reused 338\u001b[K\n",
            "Receiving objects: 100% (338/338), 511.52 KiB | 8.52 MiB/s, done.\n",
            "Resolving deltas: 100% (184/184), done.\n"
          ],
          "name": "stdout"
        }
      ]
    },
    {
      "cell_type": "code",
      "metadata": {
        "colab": {
          "base_uri": "https://localhost:8080/"
        },
        "id": "y-19nzx8SamJ",
        "outputId": "b52c435f-3c33-4c83-8237-b642b881b50f"
      },
      "source": [
        "!ls"
      ],
      "execution_count": null,
      "outputs": [
        {
          "output_type": "stream",
          "text": [
            " gdrive\t\t        sample_data\t\t\t\t   video.mp4\n",
            " kakoli_furniture.mp3  'Screenshot from 2021-05-21 16-20-08.png'   Wav2Lip\n",
            " music.mp3\t        __temp__.mp4\n"
          ],
          "name": "stdout"
        }
      ]
    },
    {
      "cell_type": "code",
      "metadata": {
        "id": "YjzMPy_Sb0AI"
      },
      "source": [
        "!cp -ri \"/content/gdrive/MyDrive/Wav2lip/wav2lip_gan.pth\" /content/Wav2Lip/checkpoints/"
      ],
      "execution_count": null,
      "outputs": []
    },
    {
      "cell_type": "markdown",
      "metadata": {
        "id": "aWTaOS3ncFt6"
      },
      "source": [
        "# Get the pre-requisites"
      ]
    },
    {
      "cell_type": "code",
      "metadata": {
        "colab": {
          "base_uri": "https://localhost:8080/"
        },
        "id": "Ooh28vw-Uvd3",
        "outputId": "6d3e4f16-84a7-4d4f-d649-340d18a4ad36"
      },
      "source": [
        "!pip uninstall tensorflow tensorflow-gpu"
      ],
      "execution_count": null,
      "outputs": [
        {
          "output_type": "stream",
          "text": [
            "Uninstalling tensorflow-2.4.1:\n",
            "  Would remove:\n",
            "    /usr/local/bin/estimator_ckpt_converter\n",
            "    /usr/local/bin/import_pb_to_tensorboard\n",
            "    /usr/local/bin/saved_model_cli\n",
            "    /usr/local/bin/tensorboard\n",
            "    /usr/local/bin/tf_upgrade_v2\n",
            "    /usr/local/bin/tflite_convert\n",
            "    /usr/local/bin/toco\n",
            "    /usr/local/bin/toco_from_protos\n",
            "    /usr/local/lib/python3.7/dist-packages/tensorflow-2.4.1.dist-info/*\n",
            "    /usr/local/lib/python3.7/dist-packages/tensorflow/*\n",
            "Proceed (y/n)? y\n",
            "y\n",
            "y\n",
            "  Successfully uninstalled tensorflow-2.4.1\n",
            "y\n",
            "\u001b[33mWARNING: Skipping tensorflow-gpu as it is not installed.\u001b[0m\n"
          ],
          "name": "stdout"
        }
      ]
    },
    {
      "cell_type": "code",
      "metadata": {
        "colab": {
          "base_uri": "https://localhost:8080/"
        },
        "id": "49dCYlLdcK2D",
        "outputId": "5559e63d-510d-4401-d2e8-de5f53199758"
      },
      "source": [
        "!cd Wav2Lip && pip install -r requirements.txt"
      ],
      "execution_count": null,
      "outputs": [
        {
          "output_type": "stream",
          "text": [
            "Collecting librosa==0.7.0\n",
            "\u001b[?25l  Downloading https://files.pythonhosted.org/packages/ad/6e/0eb0de1c9c4e02df0b40e56f258eb79bd957be79b918511a184268e01720/librosa-0.7.0.tar.gz (1.6MB)\n",
            "\u001b[K     |████████████████████████████████| 1.6MB 6.7MB/s \n",
            "\u001b[?25hCollecting numpy==1.17.1\n",
            "\u001b[?25l  Downloading https://files.pythonhosted.org/packages/25/eb/4ecf6b13897391cb07a4231e9d9c671b55dfbbf6f4a514a1a0c594f2d8d9/numpy-1.17.1-cp37-cp37m-manylinux1_x86_64.whl (20.3MB)\n",
            "\u001b[K     |████████████████████████████████| 20.3MB 303kB/s \n",
            "\u001b[?25hCollecting opencv-contrib-python>=4.2.0.34\n",
            "\u001b[?25l  Downloading https://files.pythonhosted.org/packages/43/77/347867aff4a9a5b56ea587a50762fb0ba40b27bb4e8f8f27c25ba57ed807/opencv_contrib_python-4.5.2.52-cp37-cp37m-manylinux2014_x86_64.whl (57.4MB)\n",
            "\u001b[K     |████████████████████████████████| 57.4MB 92kB/s \n",
            "\u001b[?25hCollecting opencv-python==4.1.0.25\n",
            "\u001b[?25l  Downloading https://files.pythonhosted.org/packages/de/52/61b9619a7a95a8d809515f68f1441224a07ce1873fd3af5e662851014a55/opencv_python-4.1.0.25-cp37-cp37m-manylinux1_x86_64.whl (26.6MB)\n",
            "\u001b[K     |████████████████████████████████| 26.6MB 1.5MB/s \n",
            "\u001b[?25hCollecting torch==1.1.0\n",
            "\u001b[?25l  Downloading https://files.pythonhosted.org/packages/ac/23/a4b5c189dd624411ec84613b717594a00480282b949e3448d189c4aa4e47/torch-1.1.0-cp37-cp37m-manylinux1_x86_64.whl (676.9MB)\n",
            "\u001b[K     |████████████████████████████████| 676.9MB 25kB/s \n",
            "\u001b[?25hCollecting torchvision==0.3.0\n",
            "\u001b[?25l  Downloading https://files.pythonhosted.org/packages/cc/9b/208f48d5a5013bdb0c27a84a02df4fcf5fd24ab5902667c11e554a12b681/torchvision-0.3.0-cp37-cp37m-manylinux1_x86_64.whl (2.6MB)\n",
            "\u001b[K     |████████████████████████████████| 2.6MB 34.0MB/s \n",
            "\u001b[?25hCollecting tqdm==4.45.0\n",
            "\u001b[?25l  Downloading https://files.pythonhosted.org/packages/4a/1c/6359be64e8301b84160f6f6f7936bbfaaa5e9a4eab6cbc681db07600b949/tqdm-4.45.0-py2.py3-none-any.whl (60kB)\n",
            "\u001b[K     |████████████████████████████████| 61kB 8.9MB/s \n",
            "\u001b[?25hCollecting numba==0.48\n",
            "\u001b[?25l  Downloading https://files.pythonhosted.org/packages/39/dc/5ce4a94d98e8a31cab21b150e23ca2f09a7dd354c06a69f71801ecd890db/numba-0.48.0-1-cp37-cp37m-manylinux2014_x86_64.whl (3.5MB)\n",
            "\u001b[K     |████████████████████████████████| 3.6MB 37.7MB/s \n",
            "\u001b[?25hRequirement already satisfied: audioread>=2.0.0 in /usr/local/lib/python3.7/dist-packages (from librosa==0.7.0->-r requirements.txt (line 1)) (2.1.9)\n",
            "Requirement already satisfied: scipy>=1.0.0 in /usr/local/lib/python3.7/dist-packages (from librosa==0.7.0->-r requirements.txt (line 1)) (1.4.1)\n",
            "Requirement already satisfied: scikit-learn!=0.19.0,>=0.14.0 in /usr/local/lib/python3.7/dist-packages (from librosa==0.7.0->-r requirements.txt (line 1)) (0.22.2.post1)\n",
            "Requirement already satisfied: joblib>=0.12 in /usr/local/lib/python3.7/dist-packages (from librosa==0.7.0->-r requirements.txt (line 1)) (1.0.1)\n",
            "Requirement already satisfied: decorator>=3.0.0 in /usr/local/lib/python3.7/dist-packages (from librosa==0.7.0->-r requirements.txt (line 1)) (4.4.2)\n",
            "Requirement already satisfied: six>=1.3 in /usr/local/lib/python3.7/dist-packages (from librosa==0.7.0->-r requirements.txt (line 1)) (1.15.0)\n",
            "Requirement already satisfied: resampy>=0.2.0 in /usr/local/lib/python3.7/dist-packages (from librosa==0.7.0->-r requirements.txt (line 1)) (0.2.2)\n",
            "Requirement already satisfied: soundfile>=0.9.0 in /usr/local/lib/python3.7/dist-packages (from librosa==0.7.0->-r requirements.txt (line 1)) (0.10.3.post1)\n",
            "Requirement already satisfied: pillow>=4.1.1 in /usr/local/lib/python3.7/dist-packages (from torchvision==0.3.0->-r requirements.txt (line 6)) (7.1.2)\n",
            "Collecting llvmlite<0.32.0,>=0.31.0dev0\n",
            "\u001b[?25l  Downloading https://files.pythonhosted.org/packages/a0/10/d02c0ac683fc47ecda3426249509cf771d748b6a2c0e9d5ebbee76a7b80a/llvmlite-0.31.0-cp37-cp37m-manylinux1_x86_64.whl (20.2MB)\n",
            "\u001b[K     |████████████████████████████████| 20.2MB 292kB/s \n",
            "\u001b[?25hRequirement already satisfied: setuptools in /usr/local/lib/python3.7/dist-packages (from numba==0.48->-r requirements.txt (line 8)) (56.1.0)\n",
            "Requirement already satisfied: cffi>=1.0 in /usr/local/lib/python3.7/dist-packages (from soundfile>=0.9.0->librosa==0.7.0->-r requirements.txt (line 1)) (1.14.5)\n",
            "Requirement already satisfied: pycparser in /usr/local/lib/python3.7/dist-packages (from cffi>=1.0->soundfile>=0.9.0->librosa==0.7.0->-r requirements.txt (line 1)) (2.20)\n",
            "Building wheels for collected packages: librosa\n",
            "  Building wheel for librosa (setup.py) ... \u001b[?25l\u001b[?25hdone\n",
            "  Created wheel for librosa: filename=librosa-0.7.0-cp37-none-any.whl size=1598345 sha256=5ed188aff9b1b84689e94681dac5c1f05e5efa23b5758a06e88ac27dc41621b2\n",
            "  Stored in directory: /root/.cache/pip/wheels/49/1d/38/c8ad12fcad67569d8e730c3275be5e581bd589558484a0f881\n",
            "Successfully built librosa\n",
            "\u001b[31mERROR: torchtext 0.9.1 has requirement torch==1.8.1, but you'll have torch 1.1.0 which is incompatible.\u001b[0m\n",
            "\u001b[31mERROR: tensorflow 2.4.1 has requirement numpy~=1.19.2, but you'll have numpy 1.17.1 which is incompatible.\u001b[0m\n",
            "\u001b[31mERROR: datascience 0.10.6 has requirement folium==0.2.1, but you'll have folium 0.8.3 which is incompatible.\u001b[0m\n",
            "\u001b[31mERROR: albumentations 0.1.12 has requirement imgaug<0.2.7,>=0.2.5, but you'll have imgaug 0.2.9 which is incompatible.\u001b[0m\n",
            "Installing collected packages: numpy, llvmlite, numba, librosa, opencv-contrib-python, opencv-python, torch, torchvision, tqdm\n",
            "  Found existing installation: numpy 1.19.5\n",
            "    Uninstalling numpy-1.19.5:\n",
            "      Successfully uninstalled numpy-1.19.5\n",
            "  Found existing installation: llvmlite 0.34.0\n",
            "    Uninstalling llvmlite-0.34.0:\n",
            "      Successfully uninstalled llvmlite-0.34.0\n",
            "  Found existing installation: numba 0.51.2\n",
            "    Uninstalling numba-0.51.2:\n",
            "      Successfully uninstalled numba-0.51.2\n",
            "  Found existing installation: librosa 0.8.0\n",
            "    Uninstalling librosa-0.8.0:\n",
            "      Successfully uninstalled librosa-0.8.0\n",
            "  Found existing installation: opencv-contrib-python 4.1.2.30\n",
            "    Uninstalling opencv-contrib-python-4.1.2.30:\n",
            "      Successfully uninstalled opencv-contrib-python-4.1.2.30\n",
            "  Found existing installation: opencv-python 4.1.2.30\n",
            "    Uninstalling opencv-python-4.1.2.30:\n",
            "      Successfully uninstalled opencv-python-4.1.2.30\n",
            "  Found existing installation: torch 1.8.1+cu101\n",
            "    Uninstalling torch-1.8.1+cu101:\n",
            "      Successfully uninstalled torch-1.8.1+cu101\n",
            "  Found existing installation: torchvision 0.9.1+cu101\n",
            "    Uninstalling torchvision-0.9.1+cu101:\n",
            "      Successfully uninstalled torchvision-0.9.1+cu101\n",
            "  Found existing installation: tqdm 4.41.1\n",
            "    Uninstalling tqdm-4.41.1:\n",
            "      Successfully uninstalled tqdm-4.41.1\n",
            "Successfully installed librosa-0.7.0 llvmlite-0.31.0 numba-0.48.0 numpy-1.17.1 opencv-contrib-python-4.5.2.52 opencv-python-4.1.0.25 torch-1.1.0 torchvision-0.3.0 tqdm-4.45.0\n"
          ],
          "name": "stdout"
        }
      ]
    },
    {
      "cell_type": "code",
      "metadata": {
        "colab": {
          "base_uri": "https://localhost:8080/"
        },
        "id": "ey_bN4M6X_95",
        "outputId": "76f24c02-2b63-46e9-d5ef-acf36ad44735"
      },
      "source": [
        "!wget \"https://www.adrianbulat.com/downloads/python-fan/s3fd-619a316812.pth\" -O \"Wav2Lip/face_detection/detection/sfd/s3fd.pth\""
      ],
      "execution_count": null,
      "outputs": [
        {
          "output_type": "stream",
          "text": [
            "--2021-05-22 08:47:32--  https://www.adrianbulat.com/downloads/python-fan/s3fd-619a316812.pth\n",
            "Resolving www.adrianbulat.com (www.adrianbulat.com)... 45.136.29.207\n",
            "Connecting to www.adrianbulat.com (www.adrianbulat.com)|45.136.29.207|:443... connected.\n",
            "HTTP request sent, awaiting response... 200 OK\n",
            "Length: 89843225 (86M) [application/octet-stream]\n",
            "Saving to: ‘Wav2Lip/face_detection/detection/sfd/s3fd.pth’\n",
            "\n",
            "Wav2Lip/face_detect 100%[===================>]  85.68M  22.8MB/s    in 3.8s    \n",
            "\n",
            "2021-05-22 08:47:37 (22.8 MB/s) - ‘Wav2Lip/face_detection/detection/sfd/s3fd.pth’ saved [89843225/89843225]\n",
            "\n"
          ],
          "name": "stdout"
        }
      ]
    },
    {
      "cell_type": "markdown",
      "metadata": {
        "id": "qdIQfY2Kswcb"
      },
      "source": [
        "# Now lets try!"
      ]
    },
    {
      "cell_type": "code",
      "metadata": {
        "colab": {
          "base_uri": "https://localhost:8080/"
        },
        "id": "KoVGMtjRZfeR",
        "outputId": "8512da2f-2212-4319-8b41-9b30a79dd5d7"
      },
      "source": [
        "!cp \"/content/video.mp4\" \"/content/music.mp3\" sample_data/\n",
        "!ls sample_data/"
      ],
      "execution_count": null,
      "outputs": [
        {
          "output_type": "stream",
          "text": [
            "anscombe.json\t\t      mnist_test.csv\t     README.md\n",
            "california_housing_test.csv   mnist_train_small.csv  video.mp4\n",
            "california_housing_train.csv  music.mp3\n"
          ],
          "name": "stdout"
        }
      ]
    },
    {
      "cell_type": "code",
      "metadata": {
        "colab": {
          "base_uri": "https://localhost:8080/"
        },
        "id": "jR5utmDMcSZY",
        "outputId": "c8a1bdea-95a1-48b4-af15-bb7bcfbcb019"
      },
      "source": [
        "!cd Wav2Lip && python inference.py --checkpoint_path checkpoints/wav2lip_gan.pth --face \"../sample_data/video.mp4\" --audio \"../sample_data/music.mp3\""
      ],
      "execution_count": null,
      "outputs": [
        {
          "output_type": "stream",
          "text": [
            "Using cuda for inference.\n",
            "Reading video frames...\n",
            "Number of frames available for inference: 57\n",
            "Extracting raw audio...\n",
            "ffmpeg version 3.4.8-0ubuntu0.2 Copyright (c) 2000-2020 the FFmpeg developers\n",
            "  built with gcc 7 (Ubuntu 7.5.0-3ubuntu1~18.04)\n",
            "  configuration: --prefix=/usr --extra-version=0ubuntu0.2 --toolchain=hardened --libdir=/usr/lib/x86_64-linux-gnu --incdir=/usr/include/x86_64-linux-gnu --enable-gpl --disable-stripping --enable-avresample --enable-avisynth --enable-gnutls --enable-ladspa --enable-libass --enable-libbluray --enable-libbs2b --enable-libcaca --enable-libcdio --enable-libflite --enable-libfontconfig --enable-libfreetype --enable-libfribidi --enable-libgme --enable-libgsm --enable-libmp3lame --enable-libmysofa --enable-libopenjpeg --enable-libopenmpt --enable-libopus --enable-libpulse --enable-librubberband --enable-librsvg --enable-libshine --enable-libsnappy --enable-libsoxr --enable-libspeex --enable-libssh --enable-libtheora --enable-libtwolame --enable-libvorbis --enable-libvpx --enable-libwavpack --enable-libwebp --enable-libx265 --enable-libxml2 --enable-libxvid --enable-libzmq --enable-libzvbi --enable-omx --enable-openal --enable-opengl --enable-sdl2 --enable-libdc1394 --enable-libdrm --enable-libiec61883 --enable-chromaprint --enable-frei0r --enable-libopencv --enable-libx264 --enable-shared\n",
            "  libavutil      55. 78.100 / 55. 78.100\n",
            "  libavcodec     57.107.100 / 57.107.100\n",
            "  libavformat    57. 83.100 / 57. 83.100\n",
            "  libavdevice    57. 10.100 / 57. 10.100\n",
            "  libavfilter     6.107.100 /  6.107.100\n",
            "  libavresample   3.  7.  0 /  3.  7.  0\n",
            "  libswscale      4.  8.100 /  4.  8.100\n",
            "  libswresample   2.  9.100 /  2.  9.100\n",
            "  libpostproc    54.  7.100 / 54.  7.100\n",
            "Input #0, mp3, from '../sample_data/music.mp3':\n",
            "  Metadata:\n",
            "    encoder         : Lavf57.72.101\n",
            "  Duration: 00:00:57.05, start: 0.025057, bitrate: 128 kb/s\n",
            "    Stream #0:0: Audio: mp3, 44100 Hz, stereo, s16p, 128 kb/s\n",
            "    Metadata:\n",
            "      encoder         : Lavc57.96\n",
            "Stream mapping:\n",
            "  Stream #0:0 -> #0:0 (mp3 (native) -> pcm_s16le (native))\n",
            "Press [q] to stop, [?] for help\n",
            "Output #0, wav, to 'temp/temp.wav':\n",
            "  Metadata:\n",
            "    ISFT            : Lavf57.83.100\n",
            "    Stream #0:0: Audio: pcm_s16le ([1][0][0][0] / 0x0001), 44100 Hz, stereo, s16, 1411 kb/s\n",
            "    Metadata:\n",
            "      encoder         : Lavc57.107.100 pcm_s16le\n",
            "size=    9819kB time=00:00:57.00 bitrate=1411.2kbits/s speed= 451x    \n",
            "video:0kB audio:9819kB subtitle:0kB other streams:0kB global headers:0kB muxing overhead: 0.000776%\n",
            "(80, 4561)\n",
            "Length of mel chunks: 58\n",
            "  0% 0/1 [00:00<?, ?it/s]\n",
            "  0% 0/4 [00:00<?, ?it/s]\u001b[ATHCudaCheck FAIL file=/pytorch/aten/src/THC/THCGeneral.cpp line=383 error=11 : invalid argument\n",
            "  0% 0/4 [00:00<?, ?it/s]\n",
            "Recovering from OOM error; New batch size: 8\n",
            "\n",
            "  0% 0/8 [00:00<?, ?it/s]\u001b[A\n",
            " 12% 1/8 [00:03<00:21,  3.07s/it]\u001b[A\n",
            " 25% 2/8 [00:03<00:13,  2.23s/it]\u001b[A\n",
            " 38% 3/8 [00:03<00:08,  1.63s/it]\u001b[A\n",
            " 50% 4/8 [00:03<00:04,  1.22s/it]\u001b[A\n",
            " 62% 5/8 [00:04<00:02,  1.08it/s]\u001b[A\n",
            " 75% 6/8 [00:04<00:01,  1.39it/s]\u001b[A\n",
            " 88% 7/8 [00:04<00:00,  1.72it/s]\u001b[A\n",
            "100% 8/8 [00:06<00:00,  1.19it/s]\n",
            "Load checkpoint from: checkpoints/wav2lip_gan.pth\n",
            "Model loaded\n",
            "100% 1/1 [00:23<00:00, 23.61s/it]\n",
            "ffmpeg version 3.4.8-0ubuntu0.2 Copyright (c) 2000-2020 the FFmpeg developers\n",
            "  built with gcc 7 (Ubuntu 7.5.0-3ubuntu1~18.04)\n",
            "  configuration: --prefix=/usr --extra-version=0ubuntu0.2 --toolchain=hardened --libdir=/usr/lib/x86_64-linux-gnu --incdir=/usr/include/x86_64-linux-gnu --enable-gpl --disable-stripping --enable-avresample --enable-avisynth --enable-gnutls --enable-ladspa --enable-libass --enable-libbluray --enable-libbs2b --enable-libcaca --enable-libcdio --enable-libflite --enable-libfontconfig --enable-libfreetype --enable-libfribidi --enable-libgme --enable-libgsm --enable-libmp3lame --enable-libmysofa --enable-libopenjpeg --enable-libopenmpt --enable-libopus --enable-libpulse --enable-librubberband --enable-librsvg --enable-libshine --enable-libsnappy --enable-libsoxr --enable-libspeex --enable-libssh --enable-libtheora --enable-libtwolame --enable-libvorbis --enable-libvpx --enable-libwavpack --enable-libwebp --enable-libx265 --enable-libxml2 --enable-libxvid --enable-libzmq --enable-libzvbi --enable-omx --enable-openal --enable-opengl --enable-sdl2 --enable-libdc1394 --enable-libdrm --enable-libiec61883 --enable-chromaprint --enable-frei0r --enable-libopencv --enable-libx264 --enable-shared\n",
            "  libavutil      55. 78.100 / 55. 78.100\n",
            "  libavcodec     57.107.100 / 57.107.100\n",
            "  libavformat    57. 83.100 / 57. 83.100\n",
            "  libavdevice    57. 10.100 / 57. 10.100\n",
            "  libavfilter     6.107.100 /  6.107.100\n",
            "  libavresample   3.  7.  0 /  3.  7.  0\n",
            "  libswscale      4.  8.100 /  4.  8.100\n",
            "  libswresample   2.  9.100 /  2.  9.100\n",
            "  libpostproc    54.  7.100 / 54.  7.100\n",
            "\u001b[0;33mGuessed Channel Layout for Input Stream #0.0 : stereo\n",
            "\u001b[0mInput #0, wav, from 'temp/temp.wav':\n",
            "  Metadata:\n",
            "    encoder         : Lavf57.83.100\n",
            "  Duration: 00:00:57.00, bitrate: 1411 kb/s\n",
            "    Stream #0:0: Audio: pcm_s16le ([1][0][0][0] / 0x0001), 44100 Hz, stereo, s16, 1411 kb/s\n",
            "Input #1, avi, from 'temp/result.avi':\n",
            "  Metadata:\n",
            "    encoder         : Lavf58.26.101\n",
            "  Duration: 00:00:58.00, start: 0.000000, bitrate: 16 kb/s\n",
            "    Stream #1:0: Video: mpeg4 (Simple Profile) (DIVX / 0x58564944), yuv420p, 480x360 [SAR 1:1 DAR 4:3], 16 kb/s, 1 fps, 1 tbr, 1 tbn, 1 tbc\n",
            "Stream mapping:\n",
            "  Stream #1:0 -> #0:0 (mpeg4 (native) -> h264 (libx264))\n",
            "  Stream #0:0 -> #0:1 (pcm_s16le (native) -> aac (native))\n",
            "Press [q] to stop, [?] for help\n",
            "\u001b[1;36m[libx264 @ 0x558e621df200] \u001b[0m\u001b[0;33m-qscale is ignored, -crf is recommended.\n",
            "\u001b[0m\u001b[1;36m[libx264 @ 0x558e621df200] \u001b[0musing SAR=1/1\n",
            "\u001b[1;36m[libx264 @ 0x558e621df200] \u001b[0musing cpu capabilities: MMX2 SSE2Fast SSSE3 SSE4.2 AVX FMA3 BMI2 AVX2\n",
            "\u001b[1;36m[libx264 @ 0x558e621df200] \u001b[0mprofile High, level 2.1\n",
            "\u001b[1;36m[libx264 @ 0x558e621df200] \u001b[0m264 - core 152 r2854 e9a5903 - H.264/MPEG-4 AVC codec - Copyleft 2003-2017 - http://www.videolan.org/x264.html - options: cabac=1 ref=3 deblock=1:0:0 analyse=0x3:0x113 me=hex subme=7 psy=1 psy_rd=1.00:0.00 mixed_ref=1 me_range=16 chroma_me=1 trellis=1 8x8dct=1 cqm=0 deadzone=21,11 fast_pskip=1 chroma_qp_offset=-2 threads=3 lookahead_threads=1 sliced_threads=0 nr=0 decimate=1 interlaced=0 bluray_compat=0 constrained_intra=0 bframes=3 b_pyramid=2 b_adapt=1 b_bias=0 direct=1 weightb=1 open_gop=0 weightp=2 keyint=250 keyint_min=1 scenecut=40 intra_refresh=0 rc_lookahead=40 rc=crf mbtree=1 crf=23.0 qcomp=0.60 qpmin=0 qpmax=69 qpstep=4 ip_ratio=1.40 aq=1:1.00\n",
            "Output #0, mp4, to 'results/result_voice.mp4':\n",
            "  Metadata:\n",
            "    encoder         : Lavf57.83.100\n",
            "    Stream #0:0: Video: h264 (libx264) (avc1 / 0x31637661), yuv420p(progressive), 480x360 [SAR 1:1 DAR 4:3], q=-1--1, 1 fps, 16384 tbn, 1 tbc\n",
            "    Metadata:\n",
            "      encoder         : Lavc57.107.100 libx264\n",
            "    Side data:\n",
            "      cpb: bitrate max/min/avg: 0/0/0 buffer size: 0 vbv_delay: -1\n",
            "    Stream #0:1: Audio: aac (LC) (mp4a / 0x6134706D), 44100 Hz, stereo, fltp, 128 kb/s\n",
            "    Metadata:\n",
            "      encoder         : Lavc57.107.100 aac\n",
            "frame=   58 fps= 29 q=-1.0 Lsize=    1070kB time=00:00:57.00 bitrate= 153.8kbits/s speed=28.9x    \n",
            "video:157kB audio:902kB subtitle:0kB other streams:0kB global headers:0kB muxing overhead: 1.122543%\n",
            "\u001b[1;36m[libx264 @ 0x558e621df200] \u001b[0mframe I:1     Avg QP: 7.73  size: 22663\n",
            "\u001b[1;36m[libx264 @ 0x558e621df200] \u001b[0mframe P:16    Avg QP: 9.63  size:  5157\n",
            "\u001b[1;36m[libx264 @ 0x558e621df200] \u001b[0mframe B:41    Avg QP:16.58  size:  1328\n",
            "\u001b[1;36m[libx264 @ 0x558e621df200] \u001b[0mconsecutive B-frames:  3.4%  3.4% 10.3% 82.8%\n",
            "\u001b[1;36m[libx264 @ 0x558e621df200] \u001b[0mmb I  I16..4: 14.1% 78.3%  7.7%\n",
            "\u001b[1;36m[libx264 @ 0x558e621df200] \u001b[0mmb P  I16..4:  0.4%  4.1%  0.8%  P16..4: 20.2% 10.5%  9.1%  0.0%  0.0%    skip:54.9%\n",
            "\u001b[1;36m[libx264 @ 0x558e621df200] \u001b[0mmb B  I16..4:  0.2%  1.2%  0.2%  B16..8: 18.8%  5.2%  1.4%  direct: 1.7%  skip:71.3%  L0:39.7% L1:47.4% BI:12.9%\n",
            "\u001b[1;36m[libx264 @ 0x558e621df200] \u001b[0m8x8 transform intra:77.9% inter:73.1%\n",
            "\u001b[1;36m[libx264 @ 0x558e621df200] \u001b[0mcoded y,uvDC,uvAC intra: 78.9% 87.3% 69.4% inter: 12.4% 14.8% 6.4%\n",
            "\u001b[1;36m[libx264 @ 0x558e621df200] \u001b[0mi16 v,h,dc,p: 29% 40% 27%  4%\n",
            "\u001b[1;36m[libx264 @ 0x558e621df200] \u001b[0mi8 v,h,dc,ddl,ddr,vr,hd,vl,hu: 12% 41% 24%  4%  2%  2%  4%  3%  7%\n",
            "\u001b[1;36m[libx264 @ 0x558e621df200] \u001b[0mi4 v,h,dc,ddl,ddr,vr,hd,vl,hu: 25% 40% 11%  4%  3%  3%  6%  3%  6%\n",
            "\u001b[1;36m[libx264 @ 0x558e621df200] \u001b[0mi8c dc,h,v,p: 31% 42% 13% 14%\n",
            "\u001b[1;36m[libx264 @ 0x558e621df200] \u001b[0mWeighted P-Frames: Y:0.0% UV:0.0%\n",
            "\u001b[1;36m[libx264 @ 0x558e621df200] \u001b[0mref P L0: 73.5%  7.4% 11.2%  7.8%\n",
            "\u001b[1;36m[libx264 @ 0x558e621df200] \u001b[0mref B L0: 83.7% 10.8%  5.5%\n",
            "\u001b[1;36m[libx264 @ 0x558e621df200] \u001b[0mref B L1: 91.0%  9.0%\n",
            "\u001b[1;36m[libx264 @ 0x558e621df200] \u001b[0mkb/s:22.02\n",
            "\u001b[1;36m[aac @ 0x558e62262500] \u001b[0mQavg: 687.048\n"
          ],
          "name": "stdout"
        }
      ]
    },
    {
      "cell_type": "code",
      "metadata": {
        "id": "uNOAZvkszEOw"
      },
      "source": [
        "# use the \"files\" button on the left to download the result in the Wav2Lip/results/ folder."
      ],
      "execution_count": null,
      "outputs": []
    },
    {
      "cell_type": "markdown",
      "metadata": {
        "id": "d7zgfrQqbKom"
      },
      "source": [
        "## **Variations to try**\n"
      ]
    },
    {
      "cell_type": "markdown",
      "metadata": {
        "id": "0f9A9VDVbZAG"
      },
      "source": [
        "1.   Use more padding to include the chin region"
      ]
    },
    {
      "cell_type": "code",
      "metadata": {
        "colab": {
          "base_uri": "https://localhost:8080/"
        },
        "id": "45XW4SZAzIz5",
        "outputId": "d68e922a-3593-45b5-c67c-fd1a3168f332"
      },
      "source": [
        "!cd Wav2Lip && python inference.py --checkpoint_path checkpoints/wav2lip_gan.pth --face \"../sample_data/video.mp4\" --audio \"../sample_data/music.mp3\" --pads 0 20 0 0"
      ],
      "execution_count": null,
      "outputs": [
        {
          "output_type": "stream",
          "text": [
            "Using cuda for inference.\n",
            "Reading video frames...\n",
            "Number of frames available for inference: 90\n",
            "Extracting raw audio...\n",
            "ffmpeg version 3.4.8-0ubuntu0.2 Copyright (c) 2000-2020 the FFmpeg developers\n",
            "  built with gcc 7 (Ubuntu 7.5.0-3ubuntu1~18.04)\n",
            "  configuration: --prefix=/usr --extra-version=0ubuntu0.2 --toolchain=hardened --libdir=/usr/lib/x86_64-linux-gnu --incdir=/usr/include/x86_64-linux-gnu --enable-gpl --disable-stripping --enable-avresample --enable-avisynth --enable-gnutls --enable-ladspa --enable-libass --enable-libbluray --enable-libbs2b --enable-libcaca --enable-libcdio --enable-libflite --enable-libfontconfig --enable-libfreetype --enable-libfribidi --enable-libgme --enable-libgsm --enable-libmp3lame --enable-libmysofa --enable-libopenjpeg --enable-libopenmpt --enable-libopus --enable-libpulse --enable-librubberband --enable-librsvg --enable-libshine --enable-libsnappy --enable-libsoxr --enable-libspeex --enable-libssh --enable-libtheora --enable-libtwolame --enable-libvorbis --enable-libvpx --enable-libwavpack --enable-libwebp --enable-libx265 --enable-libxml2 --enable-libxvid --enable-libzmq --enable-libzvbi --enable-omx --enable-openal --enable-opengl --enable-sdl2 --enable-libdc1394 --enable-libdrm --enable-libiec61883 --enable-chromaprint --enable-frei0r --enable-libopencv --enable-libx264 --enable-shared\n",
            "  libavutil      55. 78.100 / 55. 78.100\n",
            "  libavcodec     57.107.100 / 57.107.100\n",
            "  libavformat    57. 83.100 / 57. 83.100\n",
            "  libavdevice    57. 10.100 / 57. 10.100\n",
            "  libavfilter     6.107.100 /  6.107.100\n",
            "  libavresample   3.  7.  0 /  3.  7.  0\n",
            "  libswscale      4.  8.100 /  4.  8.100\n",
            "  libswresample   2.  9.100 /  2.  9.100\n",
            "  libpostproc    54.  7.100 / 54.  7.100\n",
            "Input #0, mp3, from '../sample_data/music.mp3':\n",
            "  Metadata:\n",
            "    encoder         : Lavf57.72.101\n",
            "  Duration: 00:00:02.77, start: 0.025057, bitrate: 128 kb/s\n",
            "    Stream #0:0: Audio: mp3, 44100 Hz, stereo, s16p, 128 kb/s\n",
            "    Metadata:\n",
            "      encoder         : Lavc57.96\n",
            "Stream mapping:\n",
            "  Stream #0:0 -> #0:0 (mp3 (native) -> pcm_s16le (native))\n",
            "Press [q] to stop, [?] for help\n",
            "Output #0, wav, to 'temp/temp.wav':\n",
            "  Metadata:\n",
            "    ISFT            : Lavf57.83.100\n",
            "    Stream #0:0: Audio: pcm_s16le ([1][0][0][0] / 0x0001), 44100 Hz, stereo, s16, 1411 kb/s\n",
            "    Metadata:\n",
            "      encoder         : Lavc57.107.100 pcm_s16le\n",
            "size=     472kB time=00:00:02.74 bitrate=1411.4kbits/s speed= 155x    \n",
            "video:0kB audio:472kB subtitle:0kB other streams:0kB global headers:0kB muxing overhead: 0.016138%\n",
            "(80, 220)\n",
            "Length of mel chunks: 78\n",
            "  0% 0/1 [00:00<?, ?it/s]\n",
            "  0% 0/5 [00:00<?, ?it/s]\u001b[A\n",
            " 20% 1/5 [00:03<00:12,  3.13s/it]\u001b[A\n",
            " 40% 2/5 [00:03<00:06,  2.28s/it]\u001b[A\n",
            " 60% 3/5 [00:03<00:03,  1.67s/it]\u001b[A\n",
            " 80% 4/5 [00:03<00:01,  1.25s/it]\u001b[A\n",
            "100% 5/5 [00:06<00:00,  1.38s/it]\n",
            "Load checkpoint from: checkpoints/wav2lip_gan.pth\n",
            "Model loaded\n",
            "100% 1/1 [00:17<00:00, 17.01s/it]\n",
            "ffmpeg version 3.4.8-0ubuntu0.2 Copyright (c) 2000-2020 the FFmpeg developers\n",
            "  built with gcc 7 (Ubuntu 7.5.0-3ubuntu1~18.04)\n",
            "  configuration: --prefix=/usr --extra-version=0ubuntu0.2 --toolchain=hardened --libdir=/usr/lib/x86_64-linux-gnu --incdir=/usr/include/x86_64-linux-gnu --enable-gpl --disable-stripping --enable-avresample --enable-avisynth --enable-gnutls --enable-ladspa --enable-libass --enable-libbluray --enable-libbs2b --enable-libcaca --enable-libcdio --enable-libflite --enable-libfontconfig --enable-libfreetype --enable-libfribidi --enable-libgme --enable-libgsm --enable-libmp3lame --enable-libmysofa --enable-libopenjpeg --enable-libopenmpt --enable-libopus --enable-libpulse --enable-librubberband --enable-librsvg --enable-libshine --enable-libsnappy --enable-libsoxr --enable-libspeex --enable-libssh --enable-libtheora --enable-libtwolame --enable-libvorbis --enable-libvpx --enable-libwavpack --enable-libwebp --enable-libx265 --enable-libxml2 --enable-libxvid --enable-libzmq --enable-libzvbi --enable-omx --enable-openal --enable-opengl --enable-sdl2 --enable-libdc1394 --enable-libdrm --enable-libiec61883 --enable-chromaprint --enable-frei0r --enable-libopencv --enable-libx264 --enable-shared\n",
            "  libavutil      55. 78.100 / 55. 78.100\n",
            "  libavcodec     57.107.100 / 57.107.100\n",
            "  libavformat    57. 83.100 / 57. 83.100\n",
            "  libavdevice    57. 10.100 / 57. 10.100\n",
            "  libavfilter     6.107.100 /  6.107.100\n",
            "  libavresample   3.  7.  0 /  3.  7.  0\n",
            "  libswscale      4.  8.100 /  4.  8.100\n",
            "  libswresample   2.  9.100 /  2.  9.100\n",
            "  libpostproc    54.  7.100 / 54.  7.100\n",
            "\u001b[0;33mGuessed Channel Layout for Input Stream #0.0 : stereo\n",
            "\u001b[0mInput #0, wav, from 'temp/temp.wav':\n",
            "  Metadata:\n",
            "    encoder         : Lavf57.83.100\n",
            "  Duration: 00:00:02.74, bitrate: 1411 kb/s\n",
            "    Stream #0:0: Audio: pcm_s16le ([1][0][0][0] / 0x0001), 44100 Hz, stereo, s16, 1411 kb/s\n",
            "Input #1, avi, from 'temp/result.avi':\n",
            "  Metadata:\n",
            "    encoder         : Lavf58.26.101\n",
            "  Duration: 00:00:02.60, start: 0.000000, bitrate: 414 kb/s\n",
            "    Stream #1:0: Video: mpeg4 (Simple Profile) (DIVX / 0x58564944), yuv420p, 360x360 [SAR 1:1 DAR 1:1], 396 kb/s, 30 fps, 30 tbr, 30 tbn, 30 tbc\n",
            "Stream mapping:\n",
            "  Stream #1:0 -> #0:0 (mpeg4 (native) -> h264 (libx264))\n",
            "  Stream #0:0 -> #0:1 (pcm_s16le (native) -> aac (native))\n",
            "Press [q] to stop, [?] for help\n",
            "\u001b[1;36m[libx264 @ 0x556a8ed0ed00] \u001b[0m\u001b[0;33m-qscale is ignored, -crf is recommended.\n",
            "\u001b[0m\u001b[1;36m[libx264 @ 0x556a8ed0ed00] \u001b[0musing SAR=1/1\n",
            "\u001b[1;36m[libx264 @ 0x556a8ed0ed00] \u001b[0musing cpu capabilities: MMX2 SSE2Fast SSSE3 SSE4.2 AVX FMA3 BMI2 AVX2\n",
            "\u001b[1;36m[libx264 @ 0x556a8ed0ed00] \u001b[0mprofile High, level 2.1\n",
            "\u001b[1;36m[libx264 @ 0x556a8ed0ed00] \u001b[0m264 - core 152 r2854 e9a5903 - H.264/MPEG-4 AVC codec - Copyleft 2003-2017 - http://www.videolan.org/x264.html - options: cabac=1 ref=3 deblock=1:0:0 analyse=0x3:0x113 me=hex subme=7 psy=1 psy_rd=1.00:0.00 mixed_ref=1 me_range=16 chroma_me=1 trellis=1 8x8dct=1 cqm=0 deadzone=21,11 fast_pskip=1 chroma_qp_offset=-2 threads=3 lookahead_threads=1 sliced_threads=0 nr=0 decimate=1 interlaced=0 bluray_compat=0 constrained_intra=0 bframes=3 b_pyramid=2 b_adapt=1 b_bias=0 direct=1 weightb=1 open_gop=0 weightp=2 keyint=250 keyint_min=25 scenecut=40 intra_refresh=0 rc_lookahead=40 rc=crf mbtree=1 crf=23.0 qcomp=0.60 qpmin=0 qpmax=69 qpstep=4 ip_ratio=1.40 aq=1:1.00\n",
            "Output #0, mp4, to 'results/result_voice.mp4':\n",
            "  Metadata:\n",
            "    encoder         : Lavf57.83.100\n",
            "    Stream #0:0: Video: h264 (libx264) (avc1 / 0x31637661), yuv420p(progressive), 360x360 [SAR 1:1 DAR 1:1], q=-1--1, 30 fps, 15360 tbn, 30 tbc\n",
            "    Metadata:\n",
            "      encoder         : Lavc57.107.100 libx264\n",
            "    Side data:\n",
            "      cpb: bitrate max/min/avg: 0/0/0 buffer size: 0 vbv_delay: -1\n",
            "    Stream #0:1: Audio: aac (LC) (mp4a / 0x6134706D), 44100 Hz, stereo, fltp, 128 kb/s\n",
            "    Metadata:\n",
            "      encoder         : Lavc57.107.100 aac\n",
            "frame=   78 fps=0.0 q=-1.0 Lsize=      85kB time=00:00:02.76 bitrate= 251.3kbits/s speed= 7.8x    \n",
            "video:39kB audio:42kB subtitle:0kB other streams:0kB global headers:0kB muxing overhead: 4.974727%\n",
            "\u001b[1;36m[libx264 @ 0x556a8ed0ed00] \u001b[0mframe I:1     Avg QP:20.41  size:  8559\n",
            "\u001b[1;36m[libx264 @ 0x556a8ed0ed00] \u001b[0mframe P:41    Avg QP:20.47  size:   607\n",
            "\u001b[1;36m[libx264 @ 0x556a8ed0ed00] \u001b[0mframe B:36    Avg QP:22.51  size:   147\n",
            "\u001b[1;36m[libx264 @ 0x556a8ed0ed00] \u001b[0mconsecutive B-frames: 30.8% 20.5%  7.7% 41.0%\n",
            "\u001b[1;36m[libx264 @ 0x556a8ed0ed00] \u001b[0mmb I  I16..4: 20.6% 76.7%  2.6%\n",
            "\u001b[1;36m[libx264 @ 0x556a8ed0ed00] \u001b[0mmb P  I16..4:  0.3%  1.6%  0.0%  P16..4: 12.5%  4.4%  1.9%  0.0%  0.0%    skip:79.3%\n",
            "\u001b[1;36m[libx264 @ 0x556a8ed0ed00] \u001b[0mmb B  I16..4:  0.1%  0.3%  0.0%  B16..8:  9.4%  0.9%  0.1%  direct: 0.2%  skip:89.0%  L0:48.4% L1:48.6% BI: 3.0%\n",
            "\u001b[1;36m[libx264 @ 0x556a8ed0ed00] \u001b[0m8x8 transform intra:79.1% inter:90.3%\n",
            "\u001b[1;36m[libx264 @ 0x556a8ed0ed00] \u001b[0mcoded y,uvDC,uvAC intra: 47.2% 52.4% 12.8% inter: 3.7% 3.7% 0.1%\n",
            "\u001b[1;36m[libx264 @ 0x556a8ed0ed00] \u001b[0mi16 v,h,dc,p: 33% 39% 23%  5%\n",
            "\u001b[1;36m[libx264 @ 0x556a8ed0ed00] \u001b[0mi8 v,h,dc,ddl,ddr,vr,hd,vl,hu: 28% 22% 30%  4%  2%  3%  3%  3%  5%\n",
            "\u001b[1;36m[libx264 @ 0x556a8ed0ed00] \u001b[0mi4 v,h,dc,ddl,ddr,vr,hd,vl,hu: 28% 20% 19%  3%  6%  2%  8%  2% 12%\n",
            "\u001b[1;36m[libx264 @ 0x556a8ed0ed00] \u001b[0mi8c dc,h,v,p: 51% 24% 20%  5%\n",
            "\u001b[1;36m[libx264 @ 0x556a8ed0ed00] \u001b[0mWeighted P-Frames: Y:0.0% UV:0.0%\n",
            "\u001b[1;36m[libx264 @ 0x556a8ed0ed00] \u001b[0mref P L0: 64.4% 15.5% 12.3%  7.8%\n",
            "\u001b[1;36m[libx264 @ 0x556a8ed0ed00] \u001b[0mref B L0: 81.5% 13.2%  5.3%\n",
            "\u001b[1;36m[libx264 @ 0x556a8ed0ed00] \u001b[0mref B L1: 97.8%  2.2%\n",
            "\u001b[1;36m[libx264 @ 0x556a8ed0ed00] \u001b[0mkb/s:119.24\n",
            "\u001b[1;36m[aac @ 0x556a8ed8e000] \u001b[0mQavg: 5383.599\n"
          ],
          "name": "stdout"
        }
      ]
    },
    {
      "cell_type": "markdown",
      "metadata": {
        "id": "uo-WnsxfbwTG"
      },
      "source": [
        "2.   Use resize_factor to reduce the video resolution, as there is a change you might get better results for lower resolution videos. Why? Because the model was trained on low resolution faces."
      ]
    },
    {
      "cell_type": "code",
      "metadata": {
        "id": "xw0xFtZ2bsx8"
      },
      "source": [
        "!cd Wav2Lip && python inference.py --checkpoint_path checkpoints/wav2lip_gan.pth --face \"../sample_data/video.mp4\" --audio \"../sample_data/music.mp3\" --resize_factor 2 --pads 0 20 0 0"
      ],
      "execution_count": null,
      "outputs": []
    },
    {
      "cell_type": "code",
      "metadata": {
        "colab": {
          "base_uri": "https://localhost:8080/"
        },
        "id": "ZtcYRlQ-EACN",
        "outputId": "9929cb9c-6d41-440c-c78b-6396d81eeef3"
      },
      "source": [
        "!python3 -m pip install moviepy"
      ],
      "execution_count": null,
      "outputs": [
        {
          "output_type": "stream",
          "text": [
            "Requirement already satisfied: moviepy in /usr/local/lib/python3.7/dist-packages (0.2.3.5)\n",
            "Requirement already satisfied: decorator<5.0,>=4.0.2 in /usr/local/lib/python3.7/dist-packages (from moviepy) (4.4.2)\n",
            "Requirement already satisfied: numpy in /usr/local/lib/python3.7/dist-packages (from moviepy) (1.17.1)\n",
            "Requirement already satisfied: imageio<3.0,>=2.1.2 in /usr/local/lib/python3.7/dist-packages (from moviepy) (2.4.1)\n",
            "Requirement already satisfied: tqdm<5.0,>=4.11.2 in /usr/local/lib/python3.7/dist-packages (from moviepy) (4.45.0)\n",
            "Requirement already satisfied: pillow in /usr/local/lib/python3.7/dist-packages (from imageio<3.0,>=2.1.2->moviepy) (7.1.2)\n"
          ],
          "name": "stdout"
        }
      ]
    },
    {
      "cell_type": "code",
      "metadata": {
        "id": "Yc7fV_ywDK0F"
      },
      "source": [
        "from moviepy.editor import *\n",
        "myvideo = VideoFileClip('/content/Wav2Lip/results/result_voice.mp4')\n",
        "#myvideo = myvideo.subclip(0,55)\n",
        "ipython_display(myvideo)\n",
        "#myvideo = VideoFileClip('/content/sample_data/input_vid.mp4')\n",
        "#print(myvideo.w , myvideo.h)"
      ],
      "execution_count": null,
      "outputs": []
    },
    {
      "cell_type": "code",
      "metadata": {
        "id": "8oyy7agQ7zJa"
      },
      "source": [
        "import numpy as np\n",
        "import cv2\n",
        "\n",
        "cap = cv2.VideoCapture('/content/Wav2Lip/results/result_voice.mp4')\n",
        " \n",
        "fourcc = cv2.VideoWriter_fourcc(*'XVID')\n",
        "out = cv2.VideoWriter('output.mp4',fourcc, 25, (480,360))\n",
        " \n",
        "while True:\n",
        "    ret, frame = cap.read()\n",
        "    if ret == True:\n",
        "        b = cv2.resize(frame,(480,360),fx=0,fy=0, interpolation = cv2.INTER_CUBIC)\n",
        "        out.write(b)\n",
        "    else:\n",
        "        break\n",
        "    \n",
        "cap.release()\n",
        "out.release()\n",
        "cv2.destroyAllWindows()\n",
        "\n",
        "from moviepy.editor import *\n",
        "videoclip = VideoFileClip(\"/content/output.mp4\")\n",
        "audioclip = AudioFileClip(\"/content/sample_data/input_audio.mp3\")\n",
        "\n",
        "new_audioclip = CompositeAudioClip([audioclip])\n",
        "videoclip.audio = new_audioclip\n",
        "videoclip.write_videofile(\"output_360.mp4\")\n",
        "videoclip.ipython_display()\n"
      ],
      "execution_count": null,
      "outputs": []
    }
  ]
}